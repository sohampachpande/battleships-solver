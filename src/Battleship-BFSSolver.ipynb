{
  "cells": [
    {
      "cell_type": "code",
      "execution_count": null,
      "metadata": {
        "id": "DvDQ3oGzpNev"
      },
      "outputs": [],
      "source": [
        "0 - unexplored\n",
        "1 - Hit\n",
        "-1 - Miss\n",
        "2 - Sunk\n",
        "\n",
        "0 - nothing\n",
        "1 - ship"
      ]
    },
    {
      "cell_type": "code",
      "execution_count": null,
      "metadata": {
        "id": "3YoHeoWMpW32"
      },
      "outputs": [],
      "source": [
        "import numpy as np\n",
        "import copy\n",
        "import matplotlib.pyplot as plt"
      ]
    },
    {
      "cell_type": "code",
      "execution_count": null,
      "metadata": {
        "id": "uUcwtdoCvnmz"
      },
      "outputs": [],
      "source": [
        "n = 10\n",
        "k = 10000"
      ]
    },
    {
      "cell_type": "code",
      "execution_count": null,
      "metadata": {
        "colab": {
          "base_uri": "https://localhost:8080/"
        },
        "id": "iue51x5_pZcF",
        "outputId": "fadb6cc4-6e65-401f-c7d1-f358000f74c2"
      },
      "outputs": [
        {
          "output_type": "execute_result",
          "data": {
            "text/plain": [
              "(10, 10)"
            ]
          },
          "metadata": {},
          "execution_count": 3
        }
      ],
      "source": [
        "board = np.zeros((n,n))\n",
        "board.shape"
      ]
    },
    {
      "cell_type": "code",
      "execution_count": null,
      "metadata": {
        "colab": {
          "base_uri": "https://localhost:8080/"
        },
        "id": "LZ7LTJFPpfQk",
        "outputId": "7fdbeeb4-d1a7-4581-e93e-0d98374598ae"
      },
      "outputs": [
        {
          "output_type": "execute_result",
          "data": {
            "text/plain": [
              "(10, 10)"
            ]
          },
          "metadata": {},
          "execution_count": 4
        }
      ],
      "source": [
        "map = np.zeros((n,n))\n",
        "map.shape"
      ]
    },
    {
      "cell_type": "code",
      "execution_count": null,
      "metadata": {
        "id": "QgrMAezUp2qT"
      },
      "outputs": [],
      "source": [
        "ships = {0:2, 1:2, 2:3, 3:4}\n",
        "ship_list = dict()"
      ]
    },
    {
      "cell_type": "code",
      "execution_count": null,
      "metadata": {
        "id": "VeCmeKZgqHZE"
      },
      "outputs": [],
      "source": [
        "def check_valid_pc(x,y,ori,ship,board_state):\n",
        "  \"\"\"ori : Left, Down, Right, Up\"\"\"\n",
        "  st = True\n",
        "  if ori==0:\n",
        "    st = st and x-ship >=0\n",
        "  if ori==3:\n",
        "    st = st and  y-ship >=0\n",
        "  if ori==1:\n",
        "    st = st and  y+ship < board_state.shape[0]\n",
        "  if ori==2:\n",
        "    st = st and  x+ship < board_state.shape[0]\n",
        "  for i in range(ship):\n",
        "    if ori==0:\n",
        "      st = st and not board_state[x-i,y]\n",
        "    if ori==3:\n",
        "      st = st and not board_state[x,y-i]\n",
        "    if ori==1:\n",
        "      st = st and not board_state[x,y+i]\n",
        "    if ori==2:\n",
        "      st = st and not board_state[x+i,y]\n",
        "  return st\n",
        "def check_valid_player(x,y,ori,ship,board_state):\n",
        "  \"\"\"ori : Left, Down, Right, Up\"\"\"\n",
        "  st = True\n",
        "  if ori==0:\n",
        "    st = st and x-ship >=0\n",
        "  if ori==3:\n",
        "    st = st and  y-ship >=0\n",
        "  if ori==1:\n",
        "    st = st and  y+ship < board_state.shape[0]\n",
        "  if ori==2:\n",
        "    st = st and  x+ship < board_state.shape[0]\n",
        "  for i in range(ship):\n",
        "    if ori==0:\n",
        "      st = st and board_state[x-i,y]==0\n",
        "    if ori==3:\n",
        "      st = st and board_state[x,y-i]==0\n",
        "    if ori==1:\n",
        "      st = st and board_state[x,y+i]==0\n",
        "    if ori==2:\n",
        "      st = st and board_state[x+i,y]==0\n",
        "  return st\n",
        "def place_ship(x,y,ori,ind,ship,board_state,ship_list):\n",
        "  for i in range(ship):\n",
        "    if ori==0:\n",
        "      board_state[x-i,y] = 1\n",
        "      ship_list[(x-i,y)] = ind\n",
        "    if ori==3:\n",
        "      board_state[x,y-i] = 1\n",
        "      ship_list[(x,y-i)] = ind\n",
        "    if ori==1:\n",
        "      board_state[x,y+i] = 1\n",
        "      ship_list[(x,y+i)] = ind\n",
        "    if ori==2:\n",
        "      board_state[x+i,y] = 1\n",
        "      ship_list[(x+i,y)] = ind\n",
        "  return board_state, ship_list\n",
        "def generate_board_pc(board_state, ships):\n",
        "  ship_list = dict()\n",
        "  ship_list[(-1,-1)] = ships\n",
        "  for ind,ship in ships.items():\n",
        "    ori = int(np.random.rand(1)*4)\n",
        "    x,y = int(np.random.rand(1)*board_state.shape[0]),  int(np.random.rand(1)*board_state.shape[0])\n",
        "    x,y = 0,0\n",
        "    while not check_valid_pc(x,y,ori,ship,board_state):\n",
        "      x,y = int(np.random.rand(1)*board_state.shape[0]),  int(np.random.rand(1)*board_state.shape[0])\n",
        "    board_state,ship_list = place_ship(x,y,ori,ind,ship,board_state,ship_list)\n",
        "  return board_state,ship_list\n",
        "\n",
        "def generate_board_player(board_state_prev, ships):\n",
        "  board_state = np.zeros((n,n))\n",
        "  ship_list = dict()\n",
        "  for ind,ship in ships.items():\n",
        "    ori = int(np.random.rand(1)*4)\n",
        "    sel = []\n",
        "    for i in range(board_state.shape[0]):\n",
        "      for j in range(board_state.shape[0]):\n",
        "        if board_state[i,j]==0:\n",
        "          sel.append((i,j))\n",
        "    xc = int(np.random.rand(1)*len(sel))\n",
        "    x,y = sel[xc]\n",
        "    #x,y = int(np.random.rand(1)*board_state.shape[0]),  int(np.random.rand(1)*board_state.shape[0])\n",
        "    while not check_valid_player(x,y,ori,ship,board_state_prev) or not check_valid_pc(x,y,ori,ship,board_state):\n",
        "      xc = int(np.random.rand(1)*len(sel))\n",
        "      x,y = sel[xc]\n",
        "      #x,y = int(np.random.rand(1)*board_state.shape[0]),  int(np.random.rand(1)*board_state.shape[0])\n",
        "    board_state,ship_list = place_ship(x,y,ori,ind,ship,board_state,ship_list)\n",
        "  return board_state"
      ]
    },
    {
      "cell_type": "code",
      "execution_count": null,
      "metadata": {
        "colab": {
          "base_uri": "https://localhost:8080/"
        },
        "id": "iGaXBNh2q_FZ",
        "outputId": "d6da1493-e935-4f59-99a4-21c944a97108"
      },
      "outputs": [
        {
          "output_type": "execute_result",
          "data": {
            "text/plain": [
              "(10, 10)"
            ]
          },
          "metadata": {},
          "execution_count": 7
        }
      ],
      "source": [
        "board_state,ship_list = generate_board_pc(copy.copy(board),ships)\n",
        "board_state.shape"
      ]
    },
    {
      "cell_type": "code",
      "execution_count": null,
      "metadata": {
        "colab": {
          "base_uri": "https://localhost:8080/"
        },
        "id": "gNpHH03ErBOv",
        "outputId": "79cb5f20-cc28-4beb-fab0-4c44039ad3ce"
      },
      "outputs": [
        {
          "output_type": "execute_result",
          "data": {
            "text/plain": [
              "array([[1., 1., 0., 0., 0., 0., 0., 0., 0., 0.],\n",
              "       [0., 0., 0., 0., 0., 0., 0., 0., 0., 0.],\n",
              "       [0., 0., 0., 0., 0., 0., 0., 0., 0., 0.],\n",
              "       [0., 0., 0., 0., 0., 0., 0., 0., 0., 0.],\n",
              "       [0., 0., 0., 0., 0., 0., 0., 0., 0., 0.],\n",
              "       [0., 0., 0., 0., 1., 0., 0., 0., 0., 0.],\n",
              "       [0., 0., 0., 0., 1., 0., 0., 0., 0., 0.],\n",
              "       [0., 0., 0., 0., 1., 0., 0., 1., 1., 1.],\n",
              "       [0., 0., 1., 0., 1., 0., 0., 0., 0., 0.],\n",
              "       [0., 0., 1., 0., 0., 0., 0., 0., 0., 0.]])"
            ]
          },
          "metadata": {},
          "execution_count": 8
        }
      ],
      "source": [
        "board_state"
      ]
    },
    {
      "cell_type": "code",
      "execution_count": null,
      "metadata": {
        "colab": {
          "base_uri": "https://localhost:8080/",
          "height": 269
        },
        "id": "akzsEJVZupa5",
        "outputId": "ebc9deec-7c59-4405-db54-4367bd1ad2d7"
      },
      "outputs": [
        {
          "output_type": "display_data",
          "data": {
            "text/plain": [
              "<Figure size 432x288 with 2 Axes>"
            ],
            "image/png": "[encoded data removed]"
          },
          "metadata": {
            "needs_background": "light"
          }
        }
      ],
      "source": [
        "fig = plt.figure()\n",
        "plt.imshow(board_state)\n",
        "plt.colorbar()\n",
        "plt.show()\n",
        "fig.savefig(\"board.png\")"
      ]
    },
    {
      "cell_type": "code",
      "execution_count": null,
      "metadata": {
        "id": "eZ7RNXepu1qO"
      },
      "outputs": [],
      "source": [
        "map = np.zeros((n,n))\n",
        "for i in range(k):\n",
        "  map+= generate_board_player(copy.copy(board),ships)\n",
        "map/= k\n",
        "map.shape"
      ]
    },
    {
      "cell_type": "code",
      "execution_count": null,
      "metadata": {
        "colab": {
          "base_uri": "https://localhost:8080/"
        },
        "id": "74UPK4prvReQ",
        "outputId": "d2ef0d1f-a7bc-4dde-e58b-e9b978543ac5"
      },
      "outputs": [
        {
          "output_type": "execute_result",
          "data": {
            "text/plain": [
              "array([[0., 0., 0., 0., 0., 0., 0., 0., 0., 0.],\n",
              "       [0., 0., 0., 0., 0., 0., 0., 0., 0., 0.],\n",
              "       [0., 0., 0., 0., 0., 0., 0., 0., 0., 0.],\n",
              "       [0., 0., 0., 0., 0., 0., 0., 0., 0., 0.],\n",
              "       [0., 0., 0., 0., 0., 0., 0., 0., 0., 0.],\n",
              "       [0., 0., 0., 0., 0., 0., 0., 0., 0., 0.],\n",
              "       [0., 0., 0., 0., 0., 0., 0., 0., 0., 0.],\n",
              "       [0., 0., 0., 0., 0., 0., 0., 0., 0., 0.],\n",
              "       [0., 0., 0., 0., 0., 0., 0., 0., 0., 0.],\n",
              "       [0., 0., 0., 0., 0., 0., 0., 0., 0., 0.]])"
            ]
          },
          "metadata": {},
          "execution_count": 11
        }
      ],
      "source": [
        "map"
      ]
    },
    {
      "cell_type": "code",
      "execution_count": null,
      "metadata": {
        "colab": {
          "base_uri": "https://localhost:8080/",
          "height": 269
        },
        "id": "wqmftIhbvuRB",
        "outputId": "2252f468-d8c8-4367-99c1-87df7fdf8e19"
      },
      "outputs": [
        {
          "output_type": "display_data",
          "data": {
            "text/plain": [
              "<Figure size 432x288 with 2 Axes>"
            ],
            "image/png": "[encoded data removed]"
          },
          "metadata": {
            "needs_background": "light"
          }
        }
      ],
      "source": [
        "fig = plt.figure()\n",
        "plt.imshow(map)\n",
        "plt.colorbar()\n",
        "plt.show()\n",
        "fig.savefig(\"prob_map.png\")"
      ]
    },
    {
      "cell_type": "code",
      "execution_count": null,
      "metadata": {
        "id": "ztfP1vgxvvRj"
      },
      "outputs": [],
      "source": []
    },
    {
      "cell_type": "code",
      "execution_count": null,
      "metadata": {
        "id": "9GzB_L-827S5"
      },
      "outputs": [],
      "source": [
        "def alg0(board_state):\n",
        "  map = np.random.randn(n,n)\n",
        "  x,y = np.unravel_index(map.argmax(), map.shape)\n",
        "  while board_state[x,y] !=0:\n",
        "    map = np.random.randn(n,n)\n",
        "    x,y = np.unravel_index(map.argmax(), map.shape)\n",
        "  return map\n",
        "def alg1(board_state):\n",
        "  map = np.zeros((n,n))\n",
        "  tries = np.sum(board_state!=0)\n",
        "  x,y = np.unravel_index(map.argmax(), map.shape)\n",
        "  while board_state[x,y] !=0:\n",
        "    map = np.random.randn(n,n)\n",
        "    x,y = np.unravel_index(map.argmax(), map.shape)\n",
        "  if tries<10:\n",
        "    for i in range(int(k/(tries+1))):\n",
        "      map+= generate_board_player(copy.copy(board_state),ships)\n",
        "    return map/k\n",
        "  return map\n",
        "def alg2(board_state):\n",
        "  map = np.zeros((n,n))\n",
        "  tries = np.sum(board_state!=0)\n",
        "\n",
        "  sel = []\n",
        "  for i in range(n):\n",
        "    for j in range(n):\n",
        "      if board_state[i,j]==1:\n",
        "        if i-1>=0 and board_state[i-1,j]==0:\n",
        "          sel.append((i-1,j))\n",
        "        if j-1>=0 and board_state[i,j-1]==0:\n",
        "          sel.append((i,j-1))\n",
        "        if i+1<n and board_state[i+1,j]==0:\n",
        "          sel.append((i+1,j))\n",
        "        if j+1<n and board_state[i,j+1]==0:\n",
        "          sel.append((i,j+1))\n",
        "  id = int(np.random.rand(1)*len(sel))\n",
        "  if len(sel)>0:\n",
        "    map[sel[id][0], sel[id][1]] = 1\n",
        "    return map\n",
        "\n",
        "  if False: #tries<10:\n",
        "    for i in range(int(k/(tries+1))):\n",
        "      map+= generate_board_player(copy.copy(board_state),ships)\n",
        "    return map/k\n",
        "  else:\n",
        "    map = np.random.randn(n,n)\n",
        "    x,y = np.unravel_index(map.argmax(), map.shape)\n",
        "    while board_state[x,y] !=0:\n",
        "      map = np.random.randn(n,n)\n",
        "      x,y = np.unravel_index(map.argmax(), map.shape)\n",
        "    return map\n",
        "\n",
        "def alg3(board_state):\n",
        "  map = np.zeros((n,n))\n",
        "  tries = np.sum(board_state!=0)\n",
        "  return map"
      ]
    },
    {
      "cell_type": "code",
      "execution_count": null,
      "metadata": {
        "id": "InAwQ5DW3vEe"
      },
      "outputs": [],
      "source": [
        "def take_action(board,board_state,ship_list,x,y):\n",
        "  if board[x,y]==1:\n",
        "    board[x,y] = 0\n",
        "    board_state[x,y] = 1\n",
        "    #ind = ship_list[(x,y)]\n",
        "    #ship_list[(-1,-1)][ind] = ship_list[(-1,-1)][ind]-1\n",
        "    #if ship_list[(-1,-1)][ind] == 0:\n",
        "    #  for cd,vl in ship_list.items():\n",
        "    #    if vl==ind:\n",
        "    #      board_state[cd[0],cd[1]] = 2\n",
        "  else:\n",
        "    board_state[x,y] = -1\n",
        "  return board,board_state,ship_list"
      ]
    },
    {
      "cell_type": "code",
      "execution_count": null,
      "metadata": {
        "id": "wT7g0KWq2wtQ"
      },
      "outputs": [],
      "source": [
        "def play(alg):\n",
        "  board, ship_list = generate_board_pc(copy.copy(np.zeros((n,n))),copy.copy(ships))\n",
        "  #plt.imshow(board)\n",
        "  #plt.colorbar()\n",
        "  #plt.show()\n",
        "  board_state = copy.copy(np.zeros((n,n)))\n",
        "  i = 0\n",
        "  while np.sum(board)>0:\n",
        "    map = alg(board_state)\n",
        "    x,y = np.unravel_index(map.argmax(), map.shape)\n",
        "    board,board_state,ship_list = take_action(board,board_state,ship_list,x,y)\n",
        "    #print(x,y)\n",
        "    #print(i)\n",
        "    #plt.imshow(map)\n",
        "    #plt.colorbar()\n",
        "    #plt.show()\n",
        "    i=i+1\n",
        "  #plt.imshow(board)\n",
        "  #plt.colorbar()\n",
        "  #plt.show()\n",
        "  #plt.imshow(board_state)\n",
        "  #plt.colorbar()\n",
        "  #plt.show()\n",
        "  return i"
      ]
    },
    {
      "cell_type": "code",
      "source": [
        "n = 40"
      ],
      "metadata": {
        "id": "j6H9xlCV55Cg"
      },
      "execution_count": null,
      "outputs": []
    },
    {
      "cell_type": "code",
      "execution_count": null,
      "metadata": {
        "colab": {
          "base_uri": "https://localhost:8080/"
        },
        "id": "tW10e4YPANph",
        "outputId": "2b50becb-b486-47ba-c55c-6e52c4531a85"
      },
      "outputs": [
        {
          "output_type": "stream",
          "name": "stdout",
          "text": [
            "1420.7878787878788\n",
            "1449.0100502512562\n",
            "1453.819397993311\n",
            "1457.265664160401\n",
            "1462.6533066132265\n",
            "1462.8297161936562\n",
            "1466.0400572246065\n",
            "1465.5907384230288\n",
            "1466.5984427141268\n",
            "1467.970970970971\n",
            "1469.2172172172172\n"
          ]
        }
      ],
      "source": [
        "a = []\n",
        "for i in range(1,1000):\n",
        "  if (i+1)%100==0:\n",
        "    print(np.sum(a)/i)\n",
        "  a.append(play(alg0))\n",
        "print(np.sum(a)/i)"
      ]
    },
    {
      "cell_type": "code",
      "execution_count": null,
      "metadata": {
        "id": "9N5TjXUS3lrc"
      },
      "outputs": [],
      "source": [
        "b = []\n",
        "for i in range(1,1000):\n",
        "  if (i+1)%100==0:\n",
        "    print(np.sum(b)/i)\n",
        "  b.append(play(alg1))\n",
        "print(np.sum(b)/i)"
      ]
    },
    {
      "cell_type": "code",
      "execution_count": null,
      "metadata": {
        "colab": {
          "base_uri": "https://localhost:8080/"
        },
        "id": "93ijQq7V3qFb",
        "outputId": "8d945f4b-92a6-4b9d-d66b-3065085c3d8b"
      },
      "outputs": [
        {
          "output_type": "stream",
          "name": "stdout",
          "text": [
            "821.5959595959596\n",
            "844.5075376884422\n",
            "833.866220735786\n",
            "833.3408521303259\n",
            "840.188376753507\n",
            "847.3455759599332\n",
            "854.3175965665237\n",
            "848.9198998748435\n",
            "845.6852057842046\n",
            "842.0040040040041\n",
            "842.6566566566567\n"
          ]
        }
      ],
      "source": [
        "c = []\n",
        "for i in range(1,1000):\n",
        "  if (i+1)%100==0:\n",
        "    print(np.sum(c)/i)\n",
        "  c.append(play(alg2))\n",
        "print(np.sum(c)/i)"
      ]
    },
    {
      "cell_type": "code",
      "execution_count": null,
      "metadata": {
        "colab": {
          "background_save": true
        },
        "id": "yfpHJ4IndpkZ"
      },
      "outputs": [],
      "source": [
        "def bin_avg(x):\n",
        "  d = []\n",
        "  for i in range(int(1000/100)):\n",
        "    d.append(np.sum(x[i*100:(i+1)*100])/100)\n",
        "  return d"
      ]
    },
    {
      "cell_type": "code",
      "source": [
        "bin_avg(c)"
      ],
      "metadata": {
        "colab": {
          "base_uri": "https://localhost:8080/"
        },
        "id": "mWhDqTY76awD",
        "outputId": "5bb87832-4e73-4bca-b73a-e84092c77833"
      },
      "execution_count": null,
      "outputs": [
        {
          "output_type": "execute_result",
          "data": {
            "text/plain": [
              "[62.15, 62.78, 62.54, 62.47, 64.8, 61.84, 62.16, 65.81, 61.32, 64.29]"
            ]
          },
          "metadata": {},
          "execution_count": 127
        }
      ]
    },
    {
      "cell_type": "code",
      "execution_count": null,
      "metadata": {
        "colab": {
          "base_uri": "https://localhost:8080/",
          "height": 268
        },
        "id": "WWEctv8uc_DS",
        "outputId": "0becaa46-8186-4fd8-efb2-db33192ab9b1"
      },
      "outputs": [
        {
          "output_type": "display_data",
          "data": {
            "text/plain": [
              "<Figure size 432x288 with 1 Axes>"
            ],
            "image/png": "[encoded data removed]"
          },
          "metadata": {
            "needs_background": "light"
          }
        }
      ],
      "source": [
        "fig = plt.figure()\n",
        "plt.plot(range(len(bin_avg(a))), bin_avg(a))\n",
        "plt.plot(range(len(bin_avg(a))), bin_avg(b))\n",
        "plt.plot(range(len(bin_avg(a))), bin_avg(c))\n",
        "fig.savefig(\"graphs.png\")"
      ]
    },
    {
      "cell_type": "code",
      "execution_count": null,
      "metadata": {
        "id": "-P4-13PAcnoF"
      },
      "outputs": [],
      "source": []
    }
  ],
  "metadata": {
    "colab": {
      "provenance": []
    },
    "kernelspec": {
      "display_name": "Python 3",
      "name": "python3"
    },
    "language_info": {
      "name": "python"
    }
  },
  "nbformat": 4,
  "nbformat_minor": 0
}